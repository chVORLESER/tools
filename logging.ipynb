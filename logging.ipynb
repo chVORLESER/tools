{
 "cells": [
  {
   "cell_type": "markdown",
   "source": [
    "# logging\n",
    "## wechat_challenge setup_logging()\n",
    "logging类是非常重要的一种打印输出的手法。在深度学习中，需要打印的有acc,loss,time,等等参数\n",
    "最好按组输出训练参数，并且分组计算acc或者计算别的方法"
   ],
   "metadata": {
    "collapsed": false
   }
  },
  {
   "cell_type": "code",
   "execution_count": 1,
   "outputs": [],
   "source": [
    "import logging\n",
    "import torch"
   ],
   "metadata": {
    "collapsed": false,
    "pycharm": {
     "name": "#%%\n"
    }
   }
  },
  {
   "cell_type": "code",
   "execution_count": null,
   "metadata": {
    "collapsed": true
   },
   "outputs": [],
   "source": [
    "def setup_logging():\n",
    "    logging.basicConfig(format='%(asctime)s - %(levelname)s - %(message)s',\n",
    "                        datefmt='%Y-%m-%d %H:%M:%S',\n",
    "                        level=logging.INFO)\n",
    "    logger = logging.getLogger(__name__)\n",
    "\n",
    "    return logger"
   ]
  },
  {
   "cell_type": "markdown",
   "source": [
    "#build_optimizer\n",
    "## wechat_challenge build_optimizer\n",
    "\n",
    "我个人一直有一个疑惑就是optimizer和训练的输出应当如何控制 如何去编写一个训练过程控制器\n",
    "- build_optimizer 类里卖弄包含了bias和layernorm.weight\n",
    "- optimizer使用了AdamW初始化 scheduler\n",
    "- 返回optimizer和scheduler"
   ],
   "metadata": {
    "collapsed": false
   }
  },
  {
   "cell_type": "code",
   "execution_count": null,
   "outputs": [],
   "source": [
    "def build_optimizer(args, model):\n",
    "    no_decay = ['bias', 'LayerNorm.weight']\n"
   ],
   "metadata": {
    "collapsed": false,
    "pycharm": {
     "name": "#%%\n"
    }
   }
  }
 ],
 "metadata": {
  "kernelspec": {
   "display_name": "Python 3",
   "language": "python",
   "name": "python3"
  },
  "language_info": {
   "codemirror_mode": {
    "name": "ipython",
    "version": 2
   },
   "file_extension": ".py",
   "mimetype": "text/x-python",
   "name": "python",
   "nbconvert_exporter": "python",
   "pygments_lexer": "ipython2",
   "version": "2.7.6"
  }
 },
 "nbformat": 4,
 "nbformat_minor": 0
}