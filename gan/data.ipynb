{
 "cells": [
  {
   "cell_type": "markdown",
   "source": [
    "# 讀懂項目想做什麽要從他的數據讀起"
   ],
   "metadata": {
    "collapsed": false
   }
  },
  {
   "cell_type": "code",
   "execution_count": null,
   "metadata": {
    "collapsed": true
   },
   "outputs": [],
   "source": [
    "class FFHQDegradationDataset():\n",
    "    def __init__(self, args):\n",
    "        super(FFHQDegradationDataset, self).__init__()\n",
    "        self.args = args\n",
    "        self.file_client = None\n",
    "        self.io_backend_args = "
   ]
  }
 ],
 "metadata": {
  "kernelspec": {
   "display_name": "Python 3",
   "language": "python",
   "name": "python3"
  },
  "language_info": {
   "codemirror_mode": {
    "name": "ipython",
    "version": 2
   },
   "file_extension": ".py",
   "mimetype": "text/x-python",
   "name": "python",
   "nbconvert_exporter": "python",
   "pygments_lexer": "ipython2",
   "version": "2.7.6"
  }
 },
 "nbformat": 4,
 "nbformat_minor": 0
}