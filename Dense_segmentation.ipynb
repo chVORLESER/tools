{
 "cells": [
  {
   "cell_type": "markdown",
   "source": [
    "# pixel_acc\n",
    "- 总类别和正确的类别之比\n",
    "- 预测时挑出结果中概率最大的类别 使用索引进行运算"
   ],
   "metadata": {
    "collapsed": false
   }
  },
  {
   "cell_type": "code",
   "execution_count": 2,
   "outputs": [],
   "source": [
    "import torch\n",
    "import torch.nn as nn\n",
    "import torch.nn.functional as F"
   ],
   "metadata": {
    "collapsed": false,
    "pycharm": {
     "name": "#%%\n"
    }
   }
  },
  {
   "cell_type": "markdown",
   "source": [
    "## torch.max 实例用法\n",
    "torch.max 会返回 torch.return_types.max 的实例 这个实例是一个二元矩阵 其一包含具体的值 其二包含值中的索引\n",
    "在pixel_acc中我们只需要他的索引\n",
    "##\n",
    "## 类型转换小tips\n",
    "创建变量时需要规定变量类型 在使用时按需要进行转换"
   ],
   "metadata": {
    "collapsed": false
   }
  },
  {
   "cell_type": "code",
   "execution_count": 4,
   "outputs": [
    {
     "name": "stdout",
     "output_type": "stream",
     "text": [
      "tensor([[-0.0096, -0.8662, -0.3437,  0.1121],\n",
      "        [ 0.4489,  0.4396,  2.4441, -0.0414],\n",
      "        [-0.5484, -2.0555,  0.9147,  0.7081],\n",
      "        [-0.8179, -0.5729, -0.6526, -0.8747]])\n",
      "finish a \n",
      "torch.return_types.max(\n",
      "values=tensor([ 0.1121,  2.4441,  0.9147, -0.5729]),\n",
      "indices=tensor([3, 2, 2, 1]))\n"
     ]
    }
   ],
   "source": [
    "a = torch.randn(4, 4)\n",
    "print(a)\n",
    "b = torch.max(a, dim=1)\n",
    "print('finish a ')\n",
    "print(b)"
   ],
   "metadata": {
    "collapsed": false,
    "pycharm": {
     "name": "#%%\n"
    }
   }
  },
  {
   "cell_type": "code",
   "execution_count": 5,
   "metadata": {
    "collapsed": true
   },
   "outputs": [],
   "source": [
    "def pixel_acc(pred, label, ignore_index=-1):\n",
    "    # preds 取的是概率最大的类别 所以这里可以使用max\n",
    "    _, preds = torch.max(pred, dim=1)\n",
    "    # long() 将输出规定为长整型\n",
    "    valid = (label != ignore_index).long()\n",
    "    acc_sum = torch.sum(valid * (preds == label).long())\n",
    "    pixel_sum = torch.sum(valid)\n",
    "    acc = acc_sum.float() / (pixel_sum.float() + 1e-10)\n",
    "    return acc"
   ]
  },
  {
   "cell_type": "markdown",
   "source": [
    "# part_pixel_acc"
   ],
   "metadata": {
    "collapsed": false
   }
  },
  {
   "cell_type": "code",
   "execution_count": null,
   "outputs": [],
   "source": [],
   "metadata": {
    "collapsed": false,
    "pycharm": {
     "name": "#%%\n"
    }
   }
  }
 ],
 "metadata": {
  "kernelspec": {
   "display_name": "Python 3",
   "language": "python",
   "name": "python3"
  },
  "language_info": {
   "codemirror_mode": {
    "name": "ipython",
    "version": 2
   },
   "file_extension": ".py",
   "mimetype": "text/x-python",
   "name": "python",
   "nbconvert_exporter": "python",
   "pygments_lexer": "ipython2",
   "version": "2.7.6"
  }
 },
 "nbformat": 4,
 "nbformat_minor": 0
}