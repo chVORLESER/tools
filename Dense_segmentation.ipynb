{
 "cells": [
  {
   "cell_type": "markdown",
   "source": [
    "# pixel_acc\n",
    "- 总类别和正确的类别之比\n",
    "- 预测时挑出结果中概率最大的类别 使用索引进行运算"
   ],
   "metadata": {
    "collapsed": false
   }
  },
  {
   "cell_type": "code",
   "execution_count": 1,
   "outputs": [],
   "source": [
    "import torch\n",
    "import torch.nn as nn\n",
    "import torch.nn.functional as F"
   ],
   "metadata": {
    "collapsed": false,
    "pycharm": {
     "name": "#%%\n"
    }
   }
  },
  {
   "cell_type": "markdown",
   "source": [
    "## torch.max 实例用法\n",
    "torch.max 会返回 torch.return_types.max 的实例 这个实例是一个二元矩阵 其一包含具体的值 其二包含值中的索引\n",
    "在pixel_acc中我们只需要他的索引\n",
    "##\n",
    "## 类型转换小tips\n",
    "创建变量时需要规定变量类型 在使用时按需要进行转换"
   ],
   "metadata": {
    "collapsed": false
   }
  },
  {
   "cell_type": "code",
   "execution_count": 2,
   "outputs": [
    {
     "name": "stdout",
     "output_type": "stream",
     "text": [
      "tensor([[ 0.6226,  2.8619,  0.4566,  0.0505],\n",
      "        [-0.6126,  0.7075, -0.0189,  0.1663],\n",
      "        [-0.6320, -1.1780,  1.7127,  1.4621],\n",
      "        [-0.0197, -0.5695, -0.6422, -0.3411]])\n",
      "finish a \n",
      "torch.return_types.max(\n",
      "values=tensor([ 2.8619,  0.7075,  1.7127, -0.0197]),\n",
      "indices=tensor([1, 1, 2, 0]))\n"
     ]
    }
   ],
   "source": [
    "a = torch.randn(4, 4)\n",
    "print(a)\n",
    "b = torch.max(a, dim=1)\n",
    "print('finish a ')\n",
    "print(b)"
   ],
   "metadata": {
    "collapsed": false,
    "pycharm": {
     "name": "#%%\n"
    }
   }
  },
  {
   "cell_type": "code",
   "execution_count": 5,
   "metadata": {
    "collapsed": true
   },
   "outputs": [],
   "source": [
    "def pixel_acc(pred, label, ignore_index=-1):\n",
    "    # preds 取的是概率最大的类别 所以这里可以使用max\n",
    "    _, preds = torch.max(pred, dim=1)\n",
    "    # long() 将输出规定为长整型\n",
    "    valid = (label != ignore_index).long()\n",
    "    acc_sum = torch.sum(valid * (preds == label).long())\n",
    "    pixel_sum = torch.sum(valid)\n",
    "    acc = acc_sum.float() / (pixel_sum.float() + 1e-10)\n",
    "    return acc"
   ]
  },
  {
   "cell_type": "markdown",
   "source": [
    "# part_pixel_acc\n",
    "- part_pixel_acc 是细分类的小样本的acc"
   ],
   "metadata": {
    "collapsed": false
   }
  },
  {
   "cell_type": "code",
   "execution_count": null,
   "outputs": [],
   "source": [
    "def part_pixel_acc(pred_part, gt_seg_part, gt_seg_object, object_label, valid):\n",
    "    mask_object = (gt_seg_object == object_label)\n",
    "    _, pred = torch.max(pred_part, dim=1)\n",
    "    acc_sum = mask_object * (pred == gt_seg_part)\n",
    "    acc_sum = torch.sum(acc_sum.view(acc_sum.size(0), -1), dim=1)\n",
    "    acc_sum = torch.sum(acc_sum * valid)\n",
    "    pixel_sum = torch.sum(mask_object.view(mask_object.size(0), -1), dim=1)\n",
    "    pixel_sum = torch.sum(pixel_sum * valid)\n",
    "    return acc_sum, pixel_sum"
   ],
   "metadata": {
    "collapsed": false,
    "pycharm": {
     "name": "#%%\n"
    }
   }
  },
  {
   "cell_type": "markdown",
   "source": [
    "# part_loss"
   ],
   "metadata": {
    "collapsed": false
   }
  },
  {
   "cell_type": "markdown",
   "source": [
    "## F.nll_loss 最大似然损失函数\n",
    "- 最大似然可看作最小化训练集上的经验分布和模型分布的差异，两者之间差异程度可以通过KL散度衡量\n",
    "- 最小化KL散度其实在最小化分布之间的交叉熵\n",
    "#\n",
    "## torch.clamp(input, min, max, out=None)\n",
    "- 限制输入张量的每个元素范围 返回一个新张量\n",
    "- 若是小于下限 则用规定下限替换 若是大于上限 用规定上限替换\n",
    "#\n",
    "## view()\n",
    "重新定义矩阵的形状 定义某个参数为-1时 代表动态调整该维度上的元素个数 以保证元素的总和不变\n",
    "#\n",
    "## shape[]\n",
    "读取矩阵长度 shape[0]为读取矩阵第一维度的长度\n",
    "shape 的输入参数可以是一个整数(表示维度) 也可以是一个矩阵"
   ],
   "metadata": {
    "collapsed": false
   }
  },
  {
   "cell_type": "code",
   "execution_count": null,
   "outputs": [],
   "source": [
    "def part_loss(pred_part, gt_seg_part, gt_seg_object, object_label, valid):\n",
    "    mask_object = (gt_seg_object == object_label)\n",
    "    loss = F.nll_loss()\n",
    "    loss= loss * mask_object.float()\n",
    "    loss = torch.sum(loss.view(loss.size(0), -1), dim=1)\n",
    "    nr_pixel = torch.sum(mask_object.view(mask_object.shape[0], -1), dim=1)\n",
    "    sum_pixel = (nr_pixel * valid).sum()\n",
    "    loss = (loss * valid.float()).sum() / torch.clamp(sum_pixel, 1).float()\n",
    "    return loss"
   ],
   "metadata": {
    "collapsed": false,
    "pycharm": {
     "name": "#%%\n"
    }
   }
  },
  {
   "cell_type": "code",
   "execution_count": 3,
   "outputs": [
    {
     "name": "stdout",
     "output_type": "stream",
     "text": [
      "tensor([[ 0.6226,  2.8619,  0.4566,  0.0505],\n",
      "        [-0.6126,  0.7075, -0.0189,  0.1663],\n",
      "        [-0.6320, -1.1780,  1.7127,  1.4621],\n",
      "        [-0.0197, -0.5695, -0.6422, -0.3411]])\n",
      "tensor([[1.0000, 2.8619, 1.0000, 1.0000],\n",
      "        [1.0000, 1.0000, 1.0000, 1.0000],\n",
      "        [1.0000, 1.0000, 1.7127, 1.4621],\n",
      "        [1.0000, 1.0000, 1.0000, 1.0000]])\n"
     ]
    }
   ],
   "source": [
    "print(a)\n",
    "b_clamp = torch.clamp(a, 1)\n",
    "print(b_clamp)"
   ],
   "metadata": {
    "collapsed": false,
    "pycharm": {
     "name": "#%%\n"
    }
   }
  },
  {
   "cell_type": "markdown",
   "source": [
    "# accuracy(preds, label)\n"
   ],
   "metadata": {
    "collapsed": false
   }
  },
  {
   "cell_type": "code",
   "execution_count": null,
   "outputs": [],
   "source": [
    "def accuracy(preds, label):\n",
    "    valid = (label >= 0)\n",
    "    acc_sum = (valid * (preds == label)).sum()\n",
    "    valid_sum = valid.sum()\n",
    "    acc = float(acc_sum) / (valid_sum + 1e-10)\n",
    "    return acc, valid_sum"
   ],
   "metadata": {
    "collapsed": false,
    "pycharm": {
     "name": "#%%\n"
    }
   }
  },
  {
   "cell_type": "markdown",
   "source": [],
   "metadata": {
    "collapsed": false
   }
  },
  {
   "cell_type": "code",
   "execution_count": null,
   "outputs": [],
   "source": [],
   "metadata": {
    "collapsed": false,
    "pycharm": {
     "name": "#%%\n"
    }
   }
  }
 ],
 "metadata": {
  "kernelspec": {
   "display_name": "Python 3",
   "language": "python",
   "name": "python3"
  },
  "language_info": {
   "codemirror_mode": {
    "name": "ipython",
    "version": 2
   },
   "file_extension": ".py",
   "mimetype": "text/x-python",
   "name": "python",
   "nbconvert_exporter": "python",
   "pygments_lexer": "ipython2",
   "version": "2.7.6"
  }
 },
 "nbformat": 4,
 "nbformat_minor": 0
}