{
 "cells": [
  {
   "cell_type": "markdown",
   "source": [
    "# dataset\n",
    "我比较喜欢不同数据集加载和总数据集写进不同文件里。在这个文件夹里面我应该会尝试一些常见的数据集和其加载的形式。这里暂时以UperNet为基础讲解数据集的加载方式\n",
    "\n",
    "## unifiedparsing\n",
    "在这里数据加载主要分为三个大模块: dataset \\ joint_dataset \\ adeseg etc。方便插入不同的数据集。但是大方法一致\n",
    "\n",
    "### joint_dataset\n",
    "collections.OrderedDict([items]): return an instance of a dict subclass that has methods specialized for rearranging dictionary order"
   ],
   "metadata": {
    "collapsed": false
   }
  },
  {
   "cell_type": "code",
   "execution_count": null,
   "metadata": {
    "collapsed": true
   },
   "outputs": [],
   "source": []
  }
 ],
 "metadata": {
  "kernelspec": {
   "display_name": "Python 3",
   "language": "python",
   "name": "python3"
  },
  "language_info": {
   "codemirror_mode": {
    "name": "ipython",
    "version": 2
   },
   "file_extension": ".py",
   "mimetype": "text/x-python",
   "name": "python",
   "nbconvert_exporter": "python",
   "pygments_lexer": "ipython2",
   "version": "2.7.6"
  }
 },
 "nbformat": 4,
 "nbformat_minor": 0
}