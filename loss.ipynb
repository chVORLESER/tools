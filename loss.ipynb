{
 "cells": [
  {
   "cell_type": "markdown",
   "source": [
    "# loss 的写法\n",
    "不同项目的 loss 有不一样的书写条件 一般喜欢使用@staticmethod使得定义函数满足不用示例即可调用\n",
    "一般loss的书写步骤包括\n",
    "\n",
    "## wechat_challenges cal_loss\n",
    "- 该版本的\n",
    "\n",
    "## squeeze()\n",
    "- 返回值为数组 并且不会修改原数组\n",
    "- axis 用于指定需要删除的维度 但是指定的维度必须为单维度\n",
    "- 若不指定维度 则会删除所有单维度的条目"
   ],
   "metadata": {
    "collapsed": false
   }
  },
  {
   "cell_type": "code",
   "execution_count": 1,
   "metadata": {
    "collapsed": true
   },
   "outputs": [],
   "source": [
    "import torch\n",
    "import torch.nn.functional as F\n",
    "import torch.nn as nn"
   ]
  },
  {
   "cell_type": "code",
   "execution_count": null,
   "outputs": [],
   "source": [
    "def cal_loss(prediction, label):\n",
    "    label = label.squeeze(dim=1)\n",
    "    loss = F.cross_entropy(prediction, label)\n",
    "    # 计算loss时不反向传播\n",
    "    with torch.no_grad():\n",
    "        pred_label_id = torch.argmax(prediction, dim=1)\n",
    "        accuracy = (label == pred_label_id).float().sum() / label.shape[0]\n",
    "    return loss, accuracy, pred_label_id, label"
   ],
   "metadata": {
    "collapsed": false,
    "pycharm": {
     "name": "#%%\n"
    }
   }
  }
 ],
 "metadata": {
  "kernelspec": {
   "display_name": "Python 3",
   "language": "python",
   "name": "python3"
  },
  "language_info": {
   "codemirror_mode": {
    "name": "ipython",
    "version": 2
   },
   "file_extension": ".py",
   "mimetype": "text/x-python",
   "name": "python",
   "nbconvert_exporter": "python",
   "pygments_lexer": "ipython2",
   "version": "2.7.6"
  }
 },
 "nbformat": 4,
 "nbformat_minor": 0
}