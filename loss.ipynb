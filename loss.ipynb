{
 "cells": [
  {
   "cell_type": "markdown",
   "source": [
    "# loss 的写法\n",
    "不同项目的 loss 有不一样的书写条件 一般喜欢使用@staticmethod使得定义函数满足不用示例即可调用\n",
    "一般loss的书写步骤包括\n",
    "- 确定需要计算loss样本的label\n",
    "- 计算loss\n",
    "- 可以把accuracy/label/pred_label_id一同输出\n",
    "\n",
    "## wechat_challenges cal_loss\n",
    "- cal_loss 传入prediction和label 输出loss\\accuracy\\pred_label_id\\label\n",
    "- 计算accuracy时不反向传播 取label=pred_label_id pred_label_id使用prediction的最大值\n",
    "\n",
    "## squeeze()\n",
    "- 返回值为数组 并且不会修改原数组\n",
    "- axis 用于指定需要删除的维度 但是指定的维度必须为单维度\n",
    "- 若不指定维度 则会删除所有单维度的条目"
   ],
   "metadata": {
    "collapsed": false
   }
  },
  {
   "cell_type": "code",
   "execution_count": 1,
   "metadata": {
    "collapsed": true
   },
   "outputs": [],
   "source": [
    "import torch\n",
    "import torch.nn.functional as F\n",
    "import torch.nn as nn"
   ]
  },
  {
   "cell_type": "code",
   "execution_count": null,
   "outputs": [],
   "source": [
    "def cal_loss(prediction, label):\n",
    "    label = label.squeeze(dim=1)\n",
    "    loss = F.cross_entropy(prediction, label)\n",
    "    # 计算loss时不反向传播\n",
    "    with torch.no_grad():\n",
    "        pred_label_id = torch.argmax(prediction, dim=1)\n",
    "        accuracy = (label == pred_label_id).float().sum() / label.shape[0]\n",
    "    return loss, accuracy, pred_label_id, label"
   ],
   "metadata": {
    "collapsed": false,
    "pycharm": {
     "name": "#%%\n"
    }
   }
  },
  {
   "cell_type": "markdown",
   "source": [
    "## UPerNet part_loss\n",
    "- part_loss 单纯用于算loss"
   ],
   "metadata": {
    "collapsed": false
   }
  },
  {
   "cell_type": "code",
   "execution_count": null,
   "outputs": [],
   "source": [
    "def part_loss(pred_part, gt_seg_part, gt_seg_object, object_label, valid):\n",
    "    mask_object = (gt_seg_object == object_label)\n",
    "    loss = F.nll_loss()\n",
    "    loss= loss * mask_object.float()\n",
    "    loss = torch.sum(loss.view(loss.size(0), -1), dim=1)\n",
    "    nr_pixel = torch.sum(mask_object.view(mask_object.shape[0], -1), dim=1)\n",
    "    sum_pixel = (nr_pixel * valid).sum()\n",
    "    loss = (loss * valid.float()).sum() / torch.clamp(sum_pixel, 1).float()\n",
    "    return loss"
   ],
   "metadata": {
    "collapsed": false,
    "pycharm": {
     "name": "#%%\n"
    }
   }
  },
  {
   "cell_type": "markdown",
   "source": [
    "## wechat QQ multimodel learning get_pred_and_loss\n",
    "- 这是一个多模态的案例 pred和loss在一起实现\n",
    "- 包含了运行的代码 对于loss使用MSELoss(均方差损失函数)\n"
   ],
   "metadata": {
    "collapsed": false
   }
  },
  {
   "cell_type": "code",
   "execution_count": null,
   "outputs": [],
   "source": [
    "DEVICE = \"cuda\" if torch.cuda.is_available() else \"cpu\"\n",
    "# set_random_seed(SEED)\n",
    "\n",
    "def get_pred_and_loss(model, item, compute_loss=True, pairwise=True):\n",
    "    video_feature = item['frame_features'].to(DEVICE)\n",
    "    input_ids = item['id'].to(DEVICE)\n",
    "    attention_mask = item['mask'].to(DEVICE)\n",
    "    video_mask = item['frame_mask'].to(DEVICE)\n",
    "\n",
    "    pred1, emb1, _ = model(video_feature, video_mask, input_ids, attention_mask, target=None, task=[])\n",
    "\n",
    "    cos_sim = None\n",
    "    loss = None\n",
    "    target = None\n",
    "\n",
    "    if pairwise:\n",
    "        video_feature = item['frame_features2'].to(DEVICE)\n",
    "        input_ids = item['id2'].to(DEVICE)\n",
    "        attention_mask = item['mask2'].to(DEVICE)\n",
    "        video_mask = item['frame_mask2'].to(DEVICE)\n",
    "\n",
    "        pred2, emb2, _ = model(video_feature, video_mask, input_ids, attention_mask, target=None, task=[])\n",
    "        cos_sim = torch.cosine_similarity(emb1, emb2)\n",
    "        if compute_loss:\n",
    "            target = item['target'].to(DEVICE)\n",
    "            loss = nn.MSELoss()(cos_sim.view(-1), target.view(-1))\n",
    "    return cos_sim, emb1, loss, target"
   ],
   "metadata": {
    "collapsed": false,
    "pycharm": {
     "name": "#%%\n"
    }
   }
  }
 ],
 "metadata": {
  "kernelspec": {
   "display_name": "Python 3",
   "language": "python",
   "name": "python3"
  },
  "language_info": {
   "codemirror_mode": {
    "name": "ipython",
    "version": 2
   },
   "file_extension": ".py",
   "mimetype": "text/x-python",
   "name": "python",
   "nbconvert_exporter": "python",
   "pygments_lexer": "ipython2",
   "version": "2.7.6"
  }
 },
 "nbformat": 4,
 "nbformat_minor": 0
}