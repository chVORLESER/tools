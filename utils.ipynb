{
 "cells": [
  {
   "cell_type": "markdown",
   "source": [
    "# utils安排\n",
    "utils中间会包含logging \\ scheduler \\ optimizer \\ evaluate之类的函数，就个人而言我在寻找函数分割的一个度。哪些函数可以当成独立的模块分离出来。\n",
    "\n",
    "## WeChat_challenge\n",
    "在微信挑战赛中他将setup_device \\ setup_seed 单独分了出来，我其实一直有在想，将setup_device和setup_seed 分离出来是否多余，暂且记录一下\n",
    "其实我觉得best_score的输出才是最重要的\n",
    "\n",
    "## setup_device(args)"
   ],
   "metadata": {
    "collapsed": false
   }
  },
  {
   "cell_type": "code",
   "execution_count": null,
   "metadata": {
    "collapsed": true
   },
   "outputs": [],
   "source": [
    "import torch\n",
    "import numpy as np\n",
    "import random\n",
    "\n",
    "def setup_device(args):\n",
    "    args.device = 'cuda' if torch.cuda.is_available() else 'cpu'\n",
    "    args.n_gpu = torch.cuda.device_count()"
   ]
  },
  {
   "cell_type": "markdown",
   "source": [
    "## setup_seed"
   ],
   "metadata": {
    "collapsed": false
   }
  },
  {
   "cell_type": "code",
   "execution_count": null,
   "outputs": [],
   "source": [
    "def setup_seed(args):\n",
    "    random.seed(args.seed)\n",
    "    np.random.seed(args.seed)\n",
    "    torch.manual_seed(args.seed"
   ],
   "metadata": {
    "collapsed": false,
    "pycharm": {
     "name": "#%%\n"
    }
   }
  },
  {
   "cell_type": "markdown",
   "source": [
    "## evaluate"
   ],
   "metadata": {
    "collapsed": false
   }
  },
  {
   "cell_type": "code",
   "execution_count": null,
   "outputs": [],
   "source": [
    "from sklearn.metrics import f1_score, accuracy_score\n",
    "\n",
    "def evaluate(predictions, labels):\n",
    "    # prediction and labels are all level-2 class ids\n",
    "\n",
    "    lv1_preds = [lv2id_to_lv1id(lv2id) for lv2id in predictions]\n",
    "    lv1_labels = [lv2id_to_lv1id(lv2id) for lv2id in labels]\n",
    "\n",
    "    lv2_f1_micro = f1_score(labels, predictions, average='micro')\n",
    "    lv2_f1_macro = f1_score(labels, predictions, average='macro')\n",
    "    lv1_f1_micro = f1_score(lv1_labels, lv1_preds, average='micro')\n",
    "    lv1_f1_macro = f1_score(lv1_labels, lv1_preds, average='macro')\n",
    "    mean_f1 = (lv2_f1_macro + lv1_f1_macro + lv1_f1_micro + lv2_f1_micro) / 4.0\n",
    "\n",
    "    eval_results = {'lv1_acc': accuracy_score(lv1_labels, lv1_preds),\n",
    "                    'lv2_acc': accuracy_score(labels, predictions),\n",
    "                    'lv1_f1_micro': lv1_f1_micro,\n",
    "                    'lv1_f1_macro': lv1_f1_macro,\n",
    "                    'lv2_f1_micro': lv2_f1_micro,\n",
    "                    'lv2_f1_macro': lv2_f1_macro,\n",
    "                    'mean_f1': mean_f1}\n",
    "\n",
    "    return eval_results"
   ],
   "metadata": {
    "collapsed": false,
    "pycharm": {
     "name": "#%%\n"
    }
   }
  },
  {
   "cell_type": "markdown",
   "source": [
    "## unifiedprasing\n",
    "这篇是非常早的semantic segmentation的文章，提出UperNet网络结构。在utils中他包含了一定的图片上色模块\n",
    "\n",
    "## AverageMeter(object)\n",
    "这里编写了一个计算总和的函数，但是我不太理解这个函数在项目中的用处.\n",
    "👉self将class定义中的变量和函数变成实例变量和实例函数，作为类的成员，使得成员之间就能相互调用，不需要从外部调用数据和方法。实现了一个数据的封装。"
   ],
   "metadata": {
    "collapsed": false
   }
  },
  {
   "cell_type": "code",
   "execution_count": null,
   "outputs": [],
   "source": [
    "class AverageMeter(object):\n",
    "    def __init__(self):\n",
    "        self.initialized = False\n",
    "        self.val = None\n",
    "        self.avg = None\n",
    "        self.sum = None\n",
    "        self.count = None\n",
    "\n",
    "    def initialize(self, val, weight):\n",
    "        self.val = val\n",
    "        self.avg = val\n",
    "        self.sum = val * weight\n",
    "        self.count = weight\n",
    "        self.initialized = True\n",
    "\n",
    "    def update(self, val, weight=1):\n",
    "        if not self.initialized:\n",
    "            self.initialize(val, weight)\n",
    "        else:\n",
    "            self.add(val, weight)\n",
    "\n",
    "    def add(self, val, weight):\n",
    "        self.val = val\n",
    "        self.sum += val * weight\n",
    "        self.count += weight\n",
    "        self.avg = self.sum / self.count\n",
    "\n",
    "    def value(self):\n",
    "        return self.val\n",
    "\n",
    "    def average(self):\n",
    "        return self.avg"
   ],
   "metadata": {
    "collapsed": false,
    "pycharm": {
     "name": "#%%\n"
    }
   }
  },
  {
   "cell_type": "markdown",
   "source": [
    "## accuracy\n",
    "一个非常普遍的accuarcy的衡量方法。具体的acc scores文章有一个细致分类。"
   ],
   "metadata": {
    "collapsed": false
   }
  },
  {
   "cell_type": "code",
   "execution_count": null,
   "outputs": [],
   "source": [
    "def accuracy(preds, label):\n",
    "    valid = (label >= 0)\n",
    "    acc_sum = (valid * (preds == label)).sum()\n",
    "    valid_sum = valid.sum()\n",
    "    acc = float(acc_sum) / (valid_sum + 1e-10)\n",
    "    return acc, valid_sum"
   ],
   "metadata": {
    "collapsed": false,
    "pycharm": {
     "name": "#%%\n"
    }
   }
  },
  {
   "cell_type": "markdown",
   "source": [
    "## unique(ar, return_index=False, return_inverse = False)\n",
    "具体还没有厘清楚拿来干什么的\n",
    "np.asanyarray: 将非numpy存储的数据输入转化为numpy数据存储形式\n",
    "flatten(): return a copy of the array collapsed into one dimension (返回一维数据)\n",
    "np.empty(shape, dtype): return a new array of given shape and type\n",
    "np.argsort(a, axis): return the indices that would sort an array"
   ],
   "metadata": {
    "collapsed": false
   }
  },
  {
   "cell_type": "code",
   "execution_count": null,
   "outputs": [],
   "source": [
    "def unique(ar, return_index=False, return_inverse=False, return_counts=False):\n",
    "    ar = np.asanyarray(ar).flatten()\n",
    "\n",
    "    optional_indices = return_index or return_inverse\n",
    "    optional_returns = optional_indices or return_counts\n",
    "\n",
    "    if ar.size ==0:\n",
    "        if not optional_returns:\n",
    "            # not return, ret = 0\n",
    "            ret = ar\n",
    "        else:\n",
    "            ret = (ar,)\n",
    "            if return_index:\n",
    "                # return ret, size=0, dtype=bool\n",
    "                ret += (np.empty(0, np.bool),)\n",
    "            if return_inverse:\n",
    "                ret += (np.empty(0, np.bool),)\n",
    "            if return_counts:\n",
    "                ret += (np.empty(0, np.intp),)\n",
    "        return ret\n",
    "    if optional_indices:\n",
    "        perm = ar.argsort(kind='mergesort' if return_index else 'quicksort')\n",
    "        aux = ar[perm]\n",
    "    else:\n",
    "        ar.sort()\n",
    "        aux = ar"
   ],
   "metadata": {
    "collapsed": false,
    "pycharm": {
     "name": "#%%\n"
    }
   }
  }
 ],
 "metadata": {
  "kernelspec": {
   "display_name": "Python 3",
   "language": "python",
   "name": "python3"
  },
  "language_info": {
   "codemirror_mode": {
    "name": "ipython",
    "version": 2
   },
   "file_extension": ".py",
   "mimetype": "text/x-python",
   "name": "python",
   "nbconvert_exporter": "python",
   "pygments_lexer": "ipython2",
   "version": "2.7.6"
  }
 },
 "nbformat": 4,
 "nbformat_minor": 0
}