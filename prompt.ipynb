{
 "cells": [
  {
   "cell_type": "markdown",
   "source": [
    "### 当我们在谈论prompt时我们在谈论什么\n",
    "\n",
    "写这个编码示例的出发点是SAM的出现，SAM其实并不能算是很新的点子，其沿用了CLIP中的VIT网络架构，还有CLIP中encoder-decoder的编码，这个初衷在于不用额外的去做文本图像对齐工作，但是牺牲了一些训练时间的trade-off。SAM 同时也在CLIP的text-encoder上做了一个改进\n",
    "\n",
    "### PointCLIP 中 prompt 的写法\n",
    "pointCLIP 是用 prompt 作为一个模板"
   ],
   "metadata": {
    "collapsed": false
   }
  },
  {
   "cell_type": "markdown",
   "source": [],
   "metadata": {
    "collapsed": false
   }
  },
  {
   "cell_type": "code",
   "execution_count": 1,
   "metadata": {
    "collapsed": true
   },
   "outputs": [],
   "source": [
    "import torch\n",
    "import torch.nn as nn\n",
    "from torch.nn import functional as F"
   ]
  },
  {
   "cell_type": "markdown",
   "source": [
    "创建prompt模板"
   ],
   "metadata": {
    "collapsed": false
   }
  },
  {
   "cell_type": "code",
   "execution_count": null,
   "outputs": [],
   "source": [
    "CUSTOM_TEMPLATES = { 'ModelNet40': 'point cloud of a big {}'}"
   ],
   "metadata": {
    "collapsed": false,
    "pycharm": {
     "name": "#%%\n"
    }
   }
  },
  {
   "cell_type": "markdown",
   "source": [
    "pointCLIP 中的text_encoder,实际上这个encoder还是沿用了clip的模型和文本处理器\n",
    " -> 接入CLIP的一个好选择"
   ],
   "metadata": {
    "collapsed": false
   }
  },
  {
   "cell_type": "code",
   "execution_count": null,
   "outputs": [],
   "source": [
    "class Textual_Encoder(nn.Module):\n",
    "    def __int__(self, cfg, classnames, clip_model):\n",
    "        self.cfg = cfg\n",
    "        self.classnames = classnames\n",
    "        self.clip_model = clip_model\n",
    "        self.dtype = clip_model.dtype\n",
    "        \n",
    "    def forward(self):\n",
    "        temp = CUSTOM_TEMPLATES[self.cfg.DATASET.NAME]\n",
    "        prompts = [temp.format(c.replace('_', ' ')) for c in self.classnames ]\n",
    "        prompts = torch.cat([clip.tokenize(p) for p in prompts])\n",
    "        prompts = prompts.cuda()\n",
    "        text_feat = self.clip_model.encode_text(prompts).repeat(1, self.cfg.MODEL.PROJECT.NUM_VIEWS)\n",
    "        return text_feat"
   ],
   "metadata": {
    "collapsed": false,
    "pycharm": {
     "name": "#%%\n"
    }
   }
  },
  {
   "cell_type": "markdown",
   "source": [
    "### CLIP 中 text_token的用法\n",
    "首先我们从CLIP的文本结构里面看 参与作为文本编辑的"
   ],
   "metadata": {
    "collapsed": false
   }
  },
  {
   "cell_type": "code",
   "execution_count": null,
   "outputs": [],
   "source": [],
   "metadata": {
    "collapsed": false,
    "pycharm": {
     "name": "#%%\n"
    }
   }
  }
 ],
 "metadata": {
  "kernelspec": {
   "display_name": "Python 3",
   "language": "python",
   "name": "python3"
  },
  "language_info": {
   "codemirror_mode": {
    "name": "ipython",
    "version": 2
   },
   "file_extension": ".py",
   "mimetype": "text/x-python",
   "name": "python",
   "nbconvert_exporter": "python",
   "pygments_lexer": "ipython2",
   "version": "2.7.6"
  }
 },
 "nbformat": 4,
 "nbformat_minor": 0
}