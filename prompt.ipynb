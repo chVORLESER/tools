{
 "cells": [
  {
   "cell_type": "markdown",
   "source": [
    "### 当我们在谈论prompt时我们在谈论什么\n",
    "\n",
    "\n",
    "### PointCLIP 中 prompt 的写法\n",
    "pointCLIP 是用 prompt 作为一个模板"
   ],
   "metadata": {
    "collapsed": false
   }
  },
  {
   "cell_type": "code",
   "execution_count": 1,
   "metadata": {
    "collapsed": true
   },
   "outputs": [],
   "source": [
    "import torch\n",
    "import torch.nn as nn\n",
    "from torch.nn import functional as F"
   ]
  },
  {
   "cell_type": "markdown",
   "source": [
    "创建prompt模板"
   ],
   "metadata": {
    "collapsed": false
   }
  },
  {
   "cell_type": "code",
   "execution_count": null,
   "outputs": [],
   "source": [
    "CUSTOM_TEMPLATES = { 'ModelNet40': 'point cloud of a big {}'}"
   ],
   "metadata": {
    "collapsed": false,
    "pycharm": {
     "name": "#%%\n"
    }
   }
  },
  {
   "cell_type": "markdown",
   "source": [
    "pointCLIP 中的text_encoder,实际上这个encoder还是沿用了clip的模型和文本处理器\n",
    " -> 接入CLIP的一个好选择"
   ],
   "metadata": {
    "collapsed": false
   }
  },
  {
   "cell_type": "code",
   "execution_count": null,
   "outputs": [],
   "source": [
    "class Textual_Encoder(nn.Module):\n",
    "    def __int__(self, cfg, classnames, clip_model):\n",
    "        self.cfg = cfg\n",
    "        self.classnames = classnames\n",
    "        self.clip_model = clip_model\n",
    "        self.dtype = clip_model.dtype\n",
    "        \n",
    "    def forward(self):\n",
    "        temp = CUSTOM_TEMPLATES[self.cfg.DATASET.NAME]\n",
    "        prompts = [temp.format(c.replace('_', ' ')) for c in self.classnames ]\n",
    "        prompts = torch.cat([clip.tokenize(p) for p in prompts])\n",
    "        prompts = prompts.cuda()\n",
    "        text_feat = self.clip_model.encode_text(prompts).repeat(1, self.cfg.MODEL.PROJECT.NUM_VIEWS)\n",
    "        return text_feat"
   ],
   "metadata": {
    "collapsed": false,
    "pycharm": {
     "name": "#%%\n"
    }
   }
  },
  {
   "cell_type": "markdown",
   "source": [
    "### CLIP 中 text_token的用法"
   ],
   "metadata": {
    "collapsed": false
   }
  },
  {
   "cell_type": "code",
   "execution_count": null,
   "outputs": [],
   "source": [],
   "metadata": {
    "collapsed": false,
    "pycharm": {
     "name": "#%%\n"
    }
   }
  }
 ],
 "metadata": {
  "kernelspec": {
   "display_name": "Python 3",
   "language": "python",
   "name": "python3"
  },
  "language_info": {
   "codemirror_mode": {
    "name": "ipython",
    "version": 2
   },
   "file_extension": ".py",
   "mimetype": "text/x-python",
   "name": "python",
   "nbconvert_exporter": "python",
   "pygments_lexer": "ipython2",
   "version": "2.7.6"
  }
 },
 "nbformat": 4,
 "nbformat_minor": 0
}